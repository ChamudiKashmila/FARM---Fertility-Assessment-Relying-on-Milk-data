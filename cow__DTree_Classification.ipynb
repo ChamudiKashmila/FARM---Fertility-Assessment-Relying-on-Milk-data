{
  "nbformat": 4,
  "nbformat_minor": 0,
  "metadata": {
    "colab": {
      "name": "cow_ DTree_Classification.ipynb",
      "provenance": []
    },
    "kernelspec": {
      "name": "python3",
      "display_name": "Python 3"
    },
    "language_info": {
      "name": "python"
    }
  },
  "cells": [
    {
      "cell_type": "code",
      "source": [
        ""
      ],
      "metadata": {
        "id": "OEQt-7eBDo-e"
      },
      "execution_count": null,
      "outputs": []
    },
    {
      "cell_type": "markdown",
      "source": [
        "Decision tree Classifier\n"
      ],
      "metadata": {
        "id": "YCCYhcjNDqsH"
      }
    },
    {
      "cell_type": "code",
      "execution_count": 1,
      "metadata": {
        "colab": {
          "base_uri": "https://localhost:8080/"
        },
        "id": "T7d_FJKe-dVX",
        "outputId": "30755f19-15b0-4b61-a6be-801bc5f6bb3e"
      },
      "outputs": [
        {
          "output_type": "stream",
          "name": "stdout",
          "text": [
            "Cloning into 'ds-assets'...\n",
            "remote: Enumerating objects: 168, done.\u001b[K\n",
            "remote: Counting objects: 100% (4/4), done.\u001b[K\n",
            "remote: Compressing objects: 100% (4/4), done.\u001b[K\n",
            "remote: Total 168 (delta 0), reused 2 (delta 0), pack-reused 164\u001b[K\n",
            "Receiving objects: 100% (168/168), 7.40 MiB | 30.07 MiB/s, done.\n",
            "Resolving deltas: 100% (60/60), done.\n"
          ]
        }
      ],
      "source": [
        "###### Set Up #####\n",
        "# verify our folder with the data and module assets is installed\n",
        "# if it is installed make sure it is the latest\n",
        "!test -e ds-assets && cd ds-assets && git pull && cd ..\n",
        "# if it is not installed clone it \n",
        "!test ! -e ds-assets && git clone https://github.com/lutzhamel/ds-assets.git\n",
        "# point to the folder with the assets\n",
        "home = \"ds-assets/assets/\" \n",
        "import sys\n",
        "sys.path.append(home)      # add home folder to module search path"
      ]
    },
    {
      "cell_type": "code",
      "source": [
        "import pandas as pd\n",
        "from treeviz import tree_print\n",
        "from sklearn import tree\n",
        "from sklearn.metrics import accuracy_score\n",
        "from sklearn.model_selection import train_test_split\n",
        "from confint import classification_confint\n",
        "from sklearn.metrics import confusion_matrix\n",
        "from sklearn.model_selection import GridSearchCV\n"
      ],
      "metadata": {
        "id": "B52J9Juc-1Eu"
      },
      "execution_count": 2,
      "outputs": []
    },
    {
      "cell_type": "code",
      "source": [
        "pip install dtreeviz\n"
      ],
      "metadata": {
        "colab": {
          "base_uri": "https://localhost:8080/"
        },
        "id": "1LyfALrJgwZW",
        "outputId": "23c0e373-2de6-40e7-e1d5-9f84ec296473"
      },
      "execution_count": 11,
      "outputs": [
        {
          "output_type": "stream",
          "name": "stdout",
          "text": [
            "Requirement already satisfied: dtreeviz in /usr/local/lib/python3.7/dist-packages (1.3.6)\n",
            "Requirement already satisfied: pandas in /usr/local/lib/python3.7/dist-packages (from dtreeviz) (1.3.5)\n",
            "Requirement already satisfied: numpy in /usr/local/lib/python3.7/dist-packages (from dtreeviz) (1.21.6)\n",
            "Requirement already satisfied: colour in /usr/local/lib/python3.7/dist-packages (from dtreeviz) (0.1.5)\n",
            "Requirement already satisfied: pytest in /usr/local/lib/python3.7/dist-packages (from dtreeviz) (3.6.4)\n",
            "Requirement already satisfied: scikit-learn in /usr/local/lib/python3.7/dist-packages (from dtreeviz) (1.0.2)\n",
            "Requirement already satisfied: graphviz>=0.9 in /usr/local/lib/python3.7/dist-packages (from dtreeviz) (0.10.1)\n",
            "Requirement already satisfied: matplotlib in /usr/local/lib/python3.7/dist-packages (from dtreeviz) (3.2.2)\n",
            "Requirement already satisfied: python-dateutil>=2.1 in /usr/local/lib/python3.7/dist-packages (from matplotlib->dtreeviz) (2.8.2)\n",
            "Requirement already satisfied: kiwisolver>=1.0.1 in /usr/local/lib/python3.7/dist-packages (from matplotlib->dtreeviz) (1.4.2)\n",
            "Requirement already satisfied: pyparsing!=2.0.4,!=2.1.2,!=2.1.6,>=2.0.1 in /usr/local/lib/python3.7/dist-packages (from matplotlib->dtreeviz) (3.0.8)\n",
            "Requirement already satisfied: cycler>=0.10 in /usr/local/lib/python3.7/dist-packages (from matplotlib->dtreeviz) (0.11.0)\n",
            "Requirement already satisfied: typing-extensions in /usr/local/lib/python3.7/dist-packages (from kiwisolver>=1.0.1->matplotlib->dtreeviz) (4.2.0)\n",
            "Requirement already satisfied: six>=1.5 in /usr/local/lib/python3.7/dist-packages (from python-dateutil>=2.1->matplotlib->dtreeviz) (1.15.0)\n",
            "Requirement already satisfied: pytz>=2017.3 in /usr/local/lib/python3.7/dist-packages (from pandas->dtreeviz) (2022.1)\n",
            "Requirement already satisfied: attrs>=17.4.0 in /usr/local/lib/python3.7/dist-packages (from pytest->dtreeviz) (21.4.0)\n",
            "Requirement already satisfied: more-itertools>=4.0.0 in /usr/local/lib/python3.7/dist-packages (from pytest->dtreeviz) (8.12.0)\n",
            "Requirement already satisfied: atomicwrites>=1.0 in /usr/local/lib/python3.7/dist-packages (from pytest->dtreeviz) (1.4.0)\n",
            "Requirement already satisfied: setuptools in /usr/local/lib/python3.7/dist-packages (from pytest->dtreeviz) (57.4.0)\n",
            "Requirement already satisfied: py>=1.5.0 in /usr/local/lib/python3.7/dist-packages (from pytest->dtreeviz) (1.11.0)\n",
            "Requirement already satisfied: pluggy<0.8,>=0.5 in /usr/local/lib/python3.7/dist-packages (from pytest->dtreeviz) (0.7.1)\n",
            "Requirement already satisfied: joblib>=0.11 in /usr/local/lib/python3.7/dist-packages (from scikit-learn->dtreeviz) (1.1.0)\n",
            "Requirement already satisfied: threadpoolctl>=2.0.0 in /usr/local/lib/python3.7/dist-packages (from scikit-learn->dtreeviz) (3.1.0)\n",
            "Requirement already satisfied: scipy>=1.1.0 in /usr/local/lib/python3.7/dist-packages (from scikit-learn->dtreeviz) (1.4.1)\n"
          ]
        }
      ]
    },
    {
      "cell_type": "code",
      "source": [
        "from dtreeviz.trees import dtreeviz # remember to load the package\n",
        "\n"
      ],
      "metadata": {
        "id": "9D8kRH2ThzYC"
      },
      "execution_count": 12,
      "outputs": []
    },
    {
      "cell_type": "code",
      "source": [
        "df = pd.read_csv(\"CowData_new.csv\")\n",
        "df.head(5)"
      ],
      "metadata": {
        "colab": {
          "base_uri": "https://localhost:8080/",
          "height": 270
        },
        "id": "tt8EH8sW_G1q",
        "outputId": "085d83b1-8dac-4142-b516-60e57cbf0cd1"
      },
      "execution_count": 3,
      "outputs": [
        {
          "output_type": "execute_result",
          "data": {
            "text/plain": [
              "   Fat...D  CU.Protein  Tot.Solids  Denovo.FA  Mixed.FA  Performed.FA  \\\n",
              "0   2.9387      2.9093      11.457       0.69      1.15          0.94   \n",
              "1   3.2224      2.8329      11.508       0.81      1.33          0.97   \n",
              "2   2.4844      2.7936      10.819       0.61      1.06          0.70   \n",
              "3   2.9304      2.5808      11.294       0.71      1.22          0.84   \n",
              "4   3.7864      2.7025      12.235       0.92      1.39          1.37   \n",
              "\n",
              "   DeNovo.Cal.Rel.  Mixed.Cal.Rel..  Preformed.Cal.Rel..   BHB  \\\n",
              "0            24.77            41.48                33.74  0.11   \n",
              "1            25.94            42.83                31.22  0.11   \n",
              "2            25.62            44.85                29.52  0.09   \n",
              "3            25.78            43.94                30.28  0.08   \n",
              "4            24.99            37.82                37.18  0.14   \n",
              "\n",
              "   Blood.NEFA..ueq.L.   preg  \n",
              "0               21.29  False  \n",
              "1              -79.51  False  \n",
              "2                9.60  False  \n",
              "3              105.36  False  \n",
              "4              234.24  False  "
            ],
            "text/html": [
              "\n",
              "  <div id=\"df-a327f819-1692-4220-bc0c-07d9f804d604\">\n",
              "    <div class=\"colab-df-container\">\n",
              "      <div>\n",
              "<style scoped>\n",
              "    .dataframe tbody tr th:only-of-type {\n",
              "        vertical-align: middle;\n",
              "    }\n",
              "\n",
              "    .dataframe tbody tr th {\n",
              "        vertical-align: top;\n",
              "    }\n",
              "\n",
              "    .dataframe thead th {\n",
              "        text-align: right;\n",
              "    }\n",
              "</style>\n",
              "<table border=\"1\" class=\"dataframe\">\n",
              "  <thead>\n",
              "    <tr style=\"text-align: right;\">\n",
              "      <th></th>\n",
              "      <th>Fat...D</th>\n",
              "      <th>CU.Protein</th>\n",
              "      <th>Tot.Solids</th>\n",
              "      <th>Denovo.FA</th>\n",
              "      <th>Mixed.FA</th>\n",
              "      <th>Performed.FA</th>\n",
              "      <th>DeNovo.Cal.Rel.</th>\n",
              "      <th>Mixed.Cal.Rel..</th>\n",
              "      <th>Preformed.Cal.Rel..</th>\n",
              "      <th>BHB</th>\n",
              "      <th>Blood.NEFA..ueq.L.</th>\n",
              "      <th>preg</th>\n",
              "    </tr>\n",
              "  </thead>\n",
              "  <tbody>\n",
              "    <tr>\n",
              "      <th>0</th>\n",
              "      <td>2.9387</td>\n",
              "      <td>2.9093</td>\n",
              "      <td>11.457</td>\n",
              "      <td>0.69</td>\n",
              "      <td>1.15</td>\n",
              "      <td>0.94</td>\n",
              "      <td>24.77</td>\n",
              "      <td>41.48</td>\n",
              "      <td>33.74</td>\n",
              "      <td>0.11</td>\n",
              "      <td>21.29</td>\n",
              "      <td>False</td>\n",
              "    </tr>\n",
              "    <tr>\n",
              "      <th>1</th>\n",
              "      <td>3.2224</td>\n",
              "      <td>2.8329</td>\n",
              "      <td>11.508</td>\n",
              "      <td>0.81</td>\n",
              "      <td>1.33</td>\n",
              "      <td>0.97</td>\n",
              "      <td>25.94</td>\n",
              "      <td>42.83</td>\n",
              "      <td>31.22</td>\n",
              "      <td>0.11</td>\n",
              "      <td>-79.51</td>\n",
              "      <td>False</td>\n",
              "    </tr>\n",
              "    <tr>\n",
              "      <th>2</th>\n",
              "      <td>2.4844</td>\n",
              "      <td>2.7936</td>\n",
              "      <td>10.819</td>\n",
              "      <td>0.61</td>\n",
              "      <td>1.06</td>\n",
              "      <td>0.70</td>\n",
              "      <td>25.62</td>\n",
              "      <td>44.85</td>\n",
              "      <td>29.52</td>\n",
              "      <td>0.09</td>\n",
              "      <td>9.60</td>\n",
              "      <td>False</td>\n",
              "    </tr>\n",
              "    <tr>\n",
              "      <th>3</th>\n",
              "      <td>2.9304</td>\n",
              "      <td>2.5808</td>\n",
              "      <td>11.294</td>\n",
              "      <td>0.71</td>\n",
              "      <td>1.22</td>\n",
              "      <td>0.84</td>\n",
              "      <td>25.78</td>\n",
              "      <td>43.94</td>\n",
              "      <td>30.28</td>\n",
              "      <td>0.08</td>\n",
              "      <td>105.36</td>\n",
              "      <td>False</td>\n",
              "    </tr>\n",
              "    <tr>\n",
              "      <th>4</th>\n",
              "      <td>3.7864</td>\n",
              "      <td>2.7025</td>\n",
              "      <td>12.235</td>\n",
              "      <td>0.92</td>\n",
              "      <td>1.39</td>\n",
              "      <td>1.37</td>\n",
              "      <td>24.99</td>\n",
              "      <td>37.82</td>\n",
              "      <td>37.18</td>\n",
              "      <td>0.14</td>\n",
              "      <td>234.24</td>\n",
              "      <td>False</td>\n",
              "    </tr>\n",
              "  </tbody>\n",
              "</table>\n",
              "</div>\n",
              "      <button class=\"colab-df-convert\" onclick=\"convertToInteractive('df-a327f819-1692-4220-bc0c-07d9f804d604')\"\n",
              "              title=\"Convert this dataframe to an interactive table.\"\n",
              "              style=\"display:none;\">\n",
              "        \n",
              "  <svg xmlns=\"http://www.w3.org/2000/svg\" height=\"24px\"viewBox=\"0 0 24 24\"\n",
              "       width=\"24px\">\n",
              "    <path d=\"M0 0h24v24H0V0z\" fill=\"none\"/>\n",
              "    <path d=\"M18.56 5.44l.94 2.06.94-2.06 2.06-.94-2.06-.94-.94-2.06-.94 2.06-2.06.94zm-11 1L8.5 8.5l.94-2.06 2.06-.94-2.06-.94L8.5 2.5l-.94 2.06-2.06.94zm10 10l.94 2.06.94-2.06 2.06-.94-2.06-.94-.94-2.06-.94 2.06-2.06.94z\"/><path d=\"M17.41 7.96l-1.37-1.37c-.4-.4-.92-.59-1.43-.59-.52 0-1.04.2-1.43.59L10.3 9.45l-7.72 7.72c-.78.78-.78 2.05 0 2.83L4 21.41c.39.39.9.59 1.41.59.51 0 1.02-.2 1.41-.59l7.78-7.78 2.81-2.81c.8-.78.8-2.07 0-2.86zM5.41 20L4 18.59l7.72-7.72 1.47 1.35L5.41 20z\"/>\n",
              "  </svg>\n",
              "      </button>\n",
              "      \n",
              "  <style>\n",
              "    .colab-df-container {\n",
              "      display:flex;\n",
              "      flex-wrap:wrap;\n",
              "      gap: 12px;\n",
              "    }\n",
              "\n",
              "    .colab-df-convert {\n",
              "      background-color: #E8F0FE;\n",
              "      border: none;\n",
              "      border-radius: 50%;\n",
              "      cursor: pointer;\n",
              "      display: none;\n",
              "      fill: #1967D2;\n",
              "      height: 32px;\n",
              "      padding: 0 0 0 0;\n",
              "      width: 32px;\n",
              "    }\n",
              "\n",
              "    .colab-df-convert:hover {\n",
              "      background-color: #E2EBFA;\n",
              "      box-shadow: 0px 1px 2px rgba(60, 64, 67, 0.3), 0px 1px 3px 1px rgba(60, 64, 67, 0.15);\n",
              "      fill: #174EA6;\n",
              "    }\n",
              "\n",
              "    [theme=dark] .colab-df-convert {\n",
              "      background-color: #3B4455;\n",
              "      fill: #D2E3FC;\n",
              "    }\n",
              "\n",
              "    [theme=dark] .colab-df-convert:hover {\n",
              "      background-color: #434B5C;\n",
              "      box-shadow: 0px 1px 3px 1px rgba(0, 0, 0, 0.15);\n",
              "      filter: drop-shadow(0px 1px 2px rgba(0, 0, 0, 0.3));\n",
              "      fill: #FFFFFF;\n",
              "    }\n",
              "  </style>\n",
              "\n",
              "      <script>\n",
              "        const buttonEl =\n",
              "          document.querySelector('#df-a327f819-1692-4220-bc0c-07d9f804d604 button.colab-df-convert');\n",
              "        buttonEl.style.display =\n",
              "          google.colab.kernel.accessAllowed ? 'block' : 'none';\n",
              "\n",
              "        async function convertToInteractive(key) {\n",
              "          const element = document.querySelector('#df-a327f819-1692-4220-bc0c-07d9f804d604');\n",
              "          const dataTable =\n",
              "            await google.colab.kernel.invokeFunction('convertToInteractive',\n",
              "                                                     [key], {});\n",
              "          if (!dataTable) return;\n",
              "\n",
              "          const docLinkHtml = 'Like what you see? Visit the ' +\n",
              "            '<a target=\"_blank\" href=https://colab.research.google.com/notebooks/data_table.ipynb>data table notebook</a>'\n",
              "            + ' to learn more about interactive tables.';\n",
              "          element.innerHTML = '';\n",
              "          dataTable['output_type'] = 'display_data';\n",
              "          await google.colab.output.renderOutput(dataTable, element);\n",
              "          const docLink = document.createElement('div');\n",
              "          docLink.innerHTML = docLinkHtml;\n",
              "          element.appendChild(docLink);\n",
              "        }\n",
              "      </script>\n",
              "    </div>\n",
              "  </div>\n",
              "  "
            ]
          },
          "metadata": {},
          "execution_count": 3
        }
      ]
    },
    {
      "cell_type": "code",
      "source": [
        "df.shape"
      ],
      "metadata": {
        "colab": {
          "base_uri": "https://localhost:8080/"
        },
        "id": "IO0aYvdu_Z2U",
        "outputId": "4e98eee9-574b-4037-f076-dc500e42840f"
      },
      "execution_count": 4,
      "outputs": [
        {
          "output_type": "execute_result",
          "data": {
            "text/plain": [
              "(2153, 12)"
            ]
          },
          "metadata": {},
          "execution_count": 4
        }
      ]
    },
    {
      "cell_type": "code",
      "source": [
        "df = df.dropna()"
      ],
      "metadata": {
        "id": "-GyFeOqO1Fa5"
      },
      "execution_count": 5,
      "outputs": []
    },
    {
      "cell_type": "code",
      "source": [
        "df.columns"
      ],
      "metadata": {
        "colab": {
          "base_uri": "https://localhost:8080/"
        },
        "id": "2WRfgCNniZj0",
        "outputId": "b75a17c6-b2f8-4e94-81b4-4c3fcebeb5f8"
      },
      "execution_count": 6,
      "outputs": [
        {
          "output_type": "execute_result",
          "data": {
            "text/plain": [
              "Index(['Fat...D', 'CU.Protein', 'Tot.Solids', 'Denovo.FA', 'Mixed.FA',\n",
              "       'Performed.FA', 'DeNovo.Cal.Rel.', 'Mixed.Cal.Rel..',\n",
              "       'Preformed.Cal.Rel..', 'BHB', 'Blood.NEFA..ueq.L.', 'preg'],\n",
              "      dtype='object')"
            ]
          },
          "metadata": {},
          "execution_count": 6
        }
      ]
    },
    {
      "cell_type": "code",
      "source": [
        ""
      ],
      "metadata": {
        "id": "bafnB23Tjy_L"
      },
      "execution_count": 6,
      "outputs": []
    },
    {
      "cell_type": "code",
      "source": [
        "X  = df.drop(['preg'],axis=1)\n",
        "y = df['preg']"
      ],
      "metadata": {
        "id": "YI-txXr1_ktG"
      },
      "execution_count": 7,
      "outputs": []
    },
    {
      "cell_type": "code",
      "source": [
        "df['preg'].value_counts()"
      ],
      "metadata": {
        "colab": {
          "base_uri": "https://localhost:8080/"
        },
        "id": "Yq76wXvTYgga",
        "outputId": "264cc915-4b3e-4f76-faf4-b24befe4812c"
      },
      "execution_count": 8,
      "outputs": [
        {
          "output_type": "execute_result",
          "data": {
            "text/plain": [
              "False    1305\n",
              "True      847\n",
              "Name: preg, dtype: int64"
            ]
          },
          "metadata": {},
          "execution_count": 8
        }
      ]
    },
    {
      "cell_type": "code",
      "source": [
        "# split the data\n",
        "X_train, X_test, y_train, y_test = train_test_split(X, y, train_size=0.75, test_size=0.25, random_state=2)"
      ],
      "metadata": {
        "id": "09G7yXuF_-eZ"
      },
      "execution_count": 9,
      "outputs": []
    },
    {
      "cell_type": "code",
      "source": [
        "\n",
        "# set up the tree model object - limit the complexity to put us somewhere in the middle of the graph.\n",
        "model = tree.DecisionTreeClassifier(random_state=1)"
      ],
      "metadata": {
        "id": "zqTM_CNLAJxq"
      },
      "execution_count": 10,
      "outputs": []
    },
    {
      "cell_type": "code",
      "source": [
        "# setting up grid search\n",
        "param_grid = {\n",
        "    'max_depth': list(range(3,20)), # search 1..19\n",
        "    'criterion': ['entropy', 'gini']\n",
        "    }\n",
        "    "
      ],
      "metadata": {
        "id": "ICzs2dR7Vqag"
      },
      "execution_count": 11,
      "outputs": []
    },
    {
      "cell_type": "code",
      "source": [
        "# fit the model on the training set of data\n",
        "#model.fit(X_train, y_train)\n",
        "grid = GridSearchCV(model, param_grid, cv=5)"
      ],
      "metadata": {
        "id": "RRum5De9AZwE"
      },
      "execution_count": 12,
      "outputs": []
    },
    {
      "cell_type": "code",
      "source": [
        "# performing grid search \n",
        "grid.fit(X_train,y_train)\n",
        "\n",
        "# print out best parameters\n",
        "print(\"Best parameters: {}\".format(grid.best_params_))\n",
        "\n",
        "# print out the best model\n",
        "print(\"Best tree:\")\n",
        "tree_print(grid.best_estimator_,X_train)\n",
        "\n",
        "# compute the accuracy of optimal classifier      \n",
        "predict_y = grid.best_estimator_.predict(X_train)\n",
        "acc = accuracy_score(y_train, predict_y)\n",
        "\n",
        "# print accuracy          \n",
        "print(\"Accuracy of optimal classifier: {:3.2f}\".format(acc))"
      ],
      "metadata": {
        "colab": {
          "base_uri": "https://localhost:8080/"
        },
        "id": "AVCmHe80WhBh",
        "outputId": "ec198d21-2b0f-4231-bc2f-b7a6304d3e50"
      },
      "execution_count": 13,
      "outputs": [
        {
          "output_type": "stream",
          "name": "stdout",
          "text": [
            "Best parameters: {'criterion': 'gini', 'max_depth': 6}\n",
            "Best tree:\n",
            "if CU.Protein =< 3.1266000270843506: \n",
            "  |then if Denovo.FA =< 0.5149999856948853: \n",
            "  |  |then if BHB =< 0.06249999813735485: \n",
            "  |  |  |then if Mixed.Cal.Rel.. =< 43.454999923706055: \n",
            "  |  |  |  |then if Mixed.FA =< 0.42500001192092896: \n",
            "  |  |  |  |  |then True\n",
            "  |  |  |  |  |else if CU.Protein =< 2.5539000034332275: \n",
            "  |  |  |  |  |  |then True\n",
            "  |  |  |  |  |  |else False\n",
            "  |  |  |  |else True\n",
            "  |  |  |else if CU.Protein =< 2.590000033378601: \n",
            "  |  |  |  |then if Fat...D =< 3.4764000177383423: \n",
            "  |  |  |  |  |then False\n",
            "  |  |  |  |  |else True\n",
            "  |  |  |  |else if BHB =< 0.1850000023841858: \n",
            "  |  |  |  |  |then if Mixed.Cal.Rel.. =< 33.26250076293945: \n",
            "  |  |  |  |  |  |then False\n",
            "  |  |  |  |  |  |else True\n",
            "  |  |  |  |  |else False\n",
            "  |  |else if CU.Protein =< 2.362850069999695: \n",
            "  |  |  |then if DeNovo.Cal.Rel. =< 16.914999961853027: \n",
            "  |  |  |  |then False\n",
            "  |  |  |  |else if Mixed.Cal.Rel.. =< 36.114999771118164: \n",
            "  |  |  |  |  |then True\n",
            "  |  |  |  |  |else if Mixed.Cal.Rel.. =< 37.38999938964844: \n",
            "  |  |  |  |  |  |then False\n",
            "  |  |  |  |  |  |else True\n",
            "  |  |  |else if CU.Protein =< 2.542649984359741: \n",
            "  |  |  |  |then if Mixed.Cal.Rel.. =< 32.02999973297119: \n",
            "  |  |  |  |  |then True\n",
            "  |  |  |  |  |else if Blood.NEFA..ueq.L. =< 263.0950012207031: \n",
            "  |  |  |  |  |  |then False\n",
            "  |  |  |  |  |  |else False\n",
            "  |  |  |  |else if Mixed.Cal.Rel.. =< 38.32500076293945: \n",
            "  |  |  |  |  |then if Denovo.FA =< 0.7150000035762787: \n",
            "  |  |  |  |  |  |then False\n",
            "  |  |  |  |  |  |else False\n",
            "  |  |  |  |  |else if BHB =< 0.16499999910593033: \n",
            "  |  |  |  |  |  |then False\n",
            "  |  |  |  |  |  |else True\n",
            "  |else if Blood.NEFA..ueq.L. =< 163.6699981689453: \n",
            "  |  |then if Mixed.FA =< 1.8799999952316284: \n",
            "  |  |  |then if BHB =< 0.11499999836087227: \n",
            "  |  |  |  |then False\n",
            "  |  |  |  |else if Mixed.FA =< 1.64000004529953: \n",
            "  |  |  |  |  |then False\n",
            "  |  |  |  |  |else True\n",
            "  |  |  |else if Denovo.FA =< 1.1449999809265137: \n",
            "  |  |  |  |then True\n",
            "  |  |  |  |else False\n",
            "  |  |else if Mixed.Cal.Rel.. =< 39.454999923706055: \n",
            "  |  |  |then if CU.Protein =< 3.240475058555603: \n",
            "  |  |  |  |then if Preformed.Cal.Rel.. =< 40.78499984741211: \n",
            "  |  |  |  |  |then if Blood.NEFA..ueq.L. =< 409.875: \n",
            "  |  |  |  |  |  |then False\n",
            "  |  |  |  |  |  |else True\n",
            "  |  |  |  |  |else False\n",
            "  |  |  |  |else if Fat...D =< 4.115000009536743: \n",
            "  |  |  |  |  |then if Denovo.FA =< 0.8849999904632568: \n",
            "  |  |  |  |  |  |then False\n",
            "  |  |  |  |  |  |else True\n",
            "  |  |  |  |  |else if Mixed.FA =< 1.6549999713897705: \n",
            "  |  |  |  |  |  |then False\n",
            "  |  |  |  |  |  |else False\n",
            "  |  |  |else if Mixed.Cal.Rel.. =< 41.845001220703125: \n",
            "  |  |  |  |then if Tot.Solids =< 13.394999980926514: \n",
            "  |  |  |  |  |then if Mixed.Cal.Rel.. =< 39.73500061035156: \n",
            "  |  |  |  |  |  |then False\n",
            "  |  |  |  |  |  |else True\n",
            "  |  |  |  |  |else if DeNovo.Cal.Rel. =< 22.53499984741211: \n",
            "  |  |  |  |  |  |then True\n",
            "  |  |  |  |  |  |else False\n",
            "  |  |  |  |else if Performed.FA =< 0.9000000059604645: \n",
            "  |  |  |  |  |then if Mixed.Cal.Rel.. =< 45.46500015258789: \n",
            "  |  |  |  |  |  |then True\n",
            "  |  |  |  |  |  |else False\n",
            "  |  |  |  |  |else if Denovo.FA =< 1.0600000023841858: \n",
            "  |  |  |  |  |  |then False\n",
            "  |  |  |  |  |  |else True\n",
            "<---------------->\n",
            "Tree Depth:  6\n",
            "Accuracy of optimal classifier: 0.66\n"
          ]
        }
      ]
    },
    {
      "cell_type": "code",
      "source": [
        "viz = dtreeviz(clf, X_train, y_train,\n",
        "                target_name=\"preg\",\n",
        "                feature_names=iris.feature_names,\n",
        "                class_names=list(iris.target_names))\n",
        "\n",
        "viz\n"
      ],
      "metadata": {
        "id": "BMntuLjriDfA"
      },
      "execution_count": null,
      "outputs": []
    },
    {
      "cell_type": "code",
      "source": [
        "#tree_print(model,X_train)"
      ],
      "metadata": {
        "id": "YoUs71vHAiRr"
      },
      "execution_count": null,
      "outputs": []
    },
    {
      "cell_type": "code",
      "source": [
        "predict_array = grid.best_estimator_.predict(X_train)      # produces an array of labels\n",
        "predicted_labels = pd.DataFrame(predict_array)  # turn it into a DF\n",
        "predicted_labels.columns = ['Outcome']          # name the column - same name as in target!\n",
        "#predicted_labels"
      ],
      "metadata": {
        "id": "kwcXBML3Bfqz"
      },
      "execution_count": 14,
      "outputs": []
    },
    {
      "cell_type": "code",
      "source": [
        "from sklearn.metrics import accuracy_score\n",
        "\n",
        "print(\"Our model accuracy is: {}\".format(accuracy_score(y_train, predicted_labels)))"
      ],
      "metadata": {
        "colab": {
          "base_uri": "https://localhost:8080/"
        },
        "id": "XwbXj_kdCprd",
        "outputId": "c64699e3-14ac-4230-f2d0-b9e1f217fc70"
      },
      "execution_count": 15,
      "outputs": [
        {
          "output_type": "stream",
          "name": "stdout",
          "text": [
            "Our model accuracy is: 0.6604708798017348\n"
          ]
        }
      ]
    },
    {
      "cell_type": "code",
      "source": [
        "y.value_counts()"
      ],
      "metadata": {
        "colab": {
          "base_uri": "https://localhost:8080/"
        },
        "id": "3hTDYW_BT40R",
        "outputId": "8716e183-c0d6-42f3-bccd-f74ef4508034"
      },
      "execution_count": 16,
      "outputs": [
        {
          "output_type": "execute_result",
          "data": {
            "text/plain": [
              "False    1305\n",
              "True      847\n",
              "Name: preg, dtype: int64"
            ]
          },
          "metadata": {},
          "execution_count": 16
        }
      ]
    },
    {
      "cell_type": "code",
      "source": [
        "predicted_labels.value_counts()"
      ],
      "metadata": {
        "colab": {
          "base_uri": "https://localhost:8080/"
        },
        "id": "Y9S2TXLocQeG",
        "outputId": "70b77bee-c342-4ec8-c45b-eafc74af80f8"
      },
      "execution_count": 17,
      "outputs": [
        {
          "output_type": "execute_result",
          "data": {
            "text/plain": [
              "Outcome\n",
              "False      1506\n",
              "True        108\n",
              "dtype: int64"
            ]
          },
          "metadata": {},
          "execution_count": 17
        }
      ]
    },
    {
      "cell_type": "code",
      "source": [
        "#predicted_labels.head()"
      ],
      "metadata": {
        "id": "YQ8kYOordA2f"
      },
      "execution_count": null,
      "outputs": []
    },
    {
      "cell_type": "code",
      "source": [
        "train=y.to_numpy()"
      ],
      "metadata": {
        "id": "6GcGWHsffKvO"
      },
      "execution_count": null,
      "outputs": []
    },
    {
      "cell_type": "code",
      "source": [
        ""
      ],
      "metadata": {
        "id": "0xOZ0zwncLM5"
      },
      "execution_count": null,
      "outputs": []
    },
    {
      "cell_type": "code",
      "source": [
        "len(predict_array)"
      ],
      "metadata": {
        "colab": {
          "base_uri": "https://localhost:8080/"
        },
        "id": "az-8bwNKf41c",
        "outputId": "f9072665-94b0-4b98-96d7-1203afe3d41a"
      },
      "execution_count": null,
      "outputs": [
        {
          "output_type": "execute_result",
          "data": {
            "text/plain": [
              "1614"
            ]
          },
          "metadata": {},
          "execution_count": 33
        }
      ]
    },
    {
      "cell_type": "code",
      "source": [
        " #build and print the confusion matrix \n",
        "labels = [0,1]\n",
        "cm = confusion_matrix(y_train, predict_array, labels=labels)\n",
        "cm_df = pd.DataFrame(cm, index=labels, columns=labels)\n",
        "print(\"Confusion Matrix:\\n{}\".format(cm_df))"
      ],
      "metadata": {
        "id": "76gQ9SblTAis",
        "colab": {
          "base_uri": "https://localhost:8080/"
        },
        "outputId": "976c6534-d044-4272-c207-3992cc7d0e2e"
      },
      "execution_count": 18,
      "outputs": [
        {
          "output_type": "stream",
          "name": "stdout",
          "text": [
            "Confusion Matrix:\n",
            "     0    1\n",
            "0  964    6\n",
            "1  542  102\n"
          ]
        }
      ]
    },
    {
      "cell_type": "code",
      "source": [
        "#cm"
      ],
      "metadata": {
        "id": "48yr_FPtgE8s"
      },
      "execution_count": null,
      "outputs": []
    },
    {
      "cell_type": "markdown",
      "source": [
        "Test"
      ],
      "metadata": {
        "id": "rOrv1Xa9Gxku"
      }
    },
    {
      "cell_type": "code",
      "source": [
        "#dft = pd.read_csv(\"DT_test.csv\")\n",
        "#dft.head(5)"
      ],
      "metadata": {
        "id": "jSvzGcfGGzt9"
      },
      "execution_count": null,
      "outputs": []
    },
    {
      "cell_type": "code",
      "source": [
        "#Xt  = dft.drop(['Outcome'],axis=1)\n",
        "#yt = dft['Outcome']"
      ],
      "metadata": {
        "id": "aK4lR_1NG4R5"
      },
      "execution_count": null,
      "outputs": []
    },
    {
      "cell_type": "code",
      "source": [
        "y_test_model = grid.best_estimator_.predict(X_test)\n",
        "acc = accuracy_score(y_test, y_test_model)\n",
        "acc"
      ],
      "metadata": {
        "colab": {
          "base_uri": "https://localhost:8080/"
        },
        "id": "ZwptIqg9DJO-",
        "outputId": "fee6e655-db21-4fa6-c0ca-4d0f55e1d233"
      },
      "execution_count": 19,
      "outputs": [
        {
          "output_type": "execute_result",
          "data": {
            "text/plain": [
              "0.6133828996282528"
            ]
          },
          "metadata": {},
          "execution_count": 19
        }
      ]
    },
    {
      "cell_type": "code",
      "source": [
        "observations = X_test.shape[0]\n",
        "lb,ub = classification_confint(acc, observations)\n",
        "print(\"Accuracy: {:3.2f} ({:3.2f},{:3.2f})\".format(acc,lb,ub))"
      ],
      "metadata": {
        "colab": {
          "base_uri": "https://localhost:8080/"
        },
        "id": "ktHTmwK9MVI4",
        "outputId": "1f11b5ca-a43a-4a9a-a7fe-e7ca30240b5d"
      },
      "execution_count": 20,
      "outputs": [
        {
          "output_type": "stream",
          "name": "stdout",
          "text": [
            "Accuracy: 0.61 (0.57,0.65)\n"
          ]
        }
      ]
    },
    {
      "cell_type": "code",
      "source": [
        "y_test.value_counts()"
      ],
      "metadata": {
        "colab": {
          "base_uri": "https://localhost:8080/"
        },
        "id": "A-IT1irAT_Jy",
        "outputId": "9c8049e9-c15e-4827-b186-fa714dda15b6"
      },
      "execution_count": 21,
      "outputs": [
        {
          "output_type": "execute_result",
          "data": {
            "text/plain": [
              "False    335\n",
              "True     203\n",
              "Name: preg, dtype: int64"
            ]
          },
          "metadata": {},
          "execution_count": 21
        }
      ]
    },
    {
      "cell_type": "code",
      "source": [
        "yt_m = pd.DataFrame(y_test_model)\n",
        "yt_m.value_counts()"
      ],
      "metadata": {
        "colab": {
          "base_uri": "https://localhost:8080/"
        },
        "id": "f9BbuF3xYru0",
        "outputId": "5ebac325-86b2-436a-f465-26ac3e97a23a"
      },
      "execution_count": 22,
      "outputs": [
        {
          "output_type": "execute_result",
          "data": {
            "text/plain": [
              "False    497\n",
              "True      41\n",
              "dtype: int64"
            ]
          },
          "metadata": {},
          "execution_count": 22
        }
      ]
    },
    {
      "cell_type": "code",
      "source": [
        "# build and print the confusion matrix \n",
        "labels = [0,1]\n",
        "cm = confusion_matrix(y_test, y_test_model, labels=labels)\n",
        "cm_df = pd.DataFrame(cm, index=labels, columns=labels)\n",
        "print(\"Confusion Matrix:\\n{}\".format(cm_df))"
      ],
      "metadata": {
        "colab": {
          "base_uri": "https://localhost:8080/"
        },
        "id": "WgCnSHsZSFWY",
        "outputId": "e84beb39-d466-47a0-ef6c-7bf3c5deda1c"
      },
      "execution_count": 23,
      "outputs": [
        {
          "output_type": "stream",
          "name": "stdout",
          "text": [
            "Confusion Matrix:\n",
            "     0   1\n",
            "0  312  23\n",
            "1  185  18\n"
          ]
        }
      ]
    },
    {
      "cell_type": "code",
      "source": [
        "from sklearn.metrics import classification_report\n",
        "target_names=['0','1']\n",
        "print(classification_report(y_test,y_test_model,target_names=target_names))"
      ],
      "metadata": {
        "colab": {
          "base_uri": "https://localhost:8080/"
        },
        "id": "In6Lw96ncVsA",
        "outputId": "8635dd14-5fa9-4be8-a0da-1a5c024d2216"
      },
      "execution_count": 25,
      "outputs": [
        {
          "output_type": "stream",
          "name": "stdout",
          "text": [
            "              precision    recall  f1-score   support\n",
            "\n",
            "           0       0.63      0.93      0.75       335\n",
            "           1       0.44      0.09      0.15       203\n",
            "\n",
            "    accuracy                           0.61       538\n",
            "   macro avg       0.53      0.51      0.45       538\n",
            "weighted avg       0.56      0.61      0.52       538\n",
            "\n"
          ]
        }
      ]
    }
  ]
}