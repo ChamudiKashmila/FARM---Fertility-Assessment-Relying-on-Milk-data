{
  "nbformat": 4,
  "nbformat_minor": 0,
  "metadata": {
    "colab": {
      "name": "Cow_Random_Forest.ipynb",
      "provenance": []
    },
    "kernelspec": {
      "name": "python3",
      "display_name": "Python 3"
    },
    "language_info": {
      "name": "python"
    }
  },
  "cells": [
    {
      "cell_type": "code",
      "source": [
        ""
      ],
      "metadata": {
        "id": "OEQt-7eBDo-e"
      },
      "execution_count": null,
      "outputs": []
    },
    {
      "cell_type": "markdown",
      "source": [
        "Random Forest Classifier\n"
      ],
      "metadata": {
        "id": "YCCYhcjNDqsH"
      }
    },
    {
      "cell_type": "code",
      "execution_count": 66,
      "metadata": {
        "colab": {
          "base_uri": "https://localhost:8080/"
        },
        "id": "T7d_FJKe-dVX",
        "outputId": "ccd75fb8-06d4-421a-8c2f-b8cef8694d14"
      },
      "outputs": [
        {
          "output_type": "stream",
          "name": "stdout",
          "text": [
            "Already up to date.\n"
          ]
        }
      ],
      "source": [
        "###### Set Up #####\n",
        "# verify our folder with the data and module assets is installed\n",
        "# if it is installed make sure it is the latest\n",
        "!test -e ds-assets && cd ds-assets && git pull && cd ..\n",
        "# if it is not installed clone it \n",
        "!test ! -e ds-assets && git clone https://github.com/lutzhamel/ds-assets.git\n",
        "# point to the folder with the assets\n",
        "home = \"ds-assets/assets/\" \n",
        "import sys\n",
        "from sklearn.ensemble import RandomForestClassifier\n",
        "from sklearn.metrics import classification_report\n",
        "sys.path.append(home)      # add home folder to module search path"
      ]
    },
    {
      "cell_type": "code",
      "source": [
        "import pandas as pd\n",
        "#from treeviz import tree_print\n",
        "from sklearn import tree\n",
        "from sklearn.metrics import accuracy_score\n",
        "from sklearn.model_selection import train_test_split\n",
        "from confint import classification_confint\n",
        "from sklearn.metrics import confusion_matrix\n",
        "from sklearn.model_selection import GridSearchCV\n"
      ],
      "metadata": {
        "id": "B52J9Juc-1Eu"
      },
      "execution_count": 67,
      "outputs": []
    },
    {
      "cell_type": "code",
      "source": [
        "df = pd.read_csv(\"CowData_new.csv\")\n",
        "df.head(5)"
      ],
      "metadata": {
        "colab": {
          "base_uri": "https://localhost:8080/",
          "height": 270
        },
        "id": "tt8EH8sW_G1q",
        "outputId": "5df00795-c7d3-4eb1-b8e9-5bcd0a260e29"
      },
      "execution_count": 68,
      "outputs": [
        {
          "output_type": "execute_result",
          "data": {
            "text/plain": [
              "   Fat...D  CU.Protein  Tot.Solids  Denovo.FA  Mixed.FA  Performed.FA  \\\n",
              "0   2.9387      2.9093      11.457       0.69      1.15          0.94   \n",
              "1   3.2224      2.8329      11.508       0.81      1.33          0.97   \n",
              "2   2.4844      2.7936      10.819       0.61      1.06          0.70   \n",
              "3   2.9304      2.5808      11.294       0.71      1.22          0.84   \n",
              "4   3.7864      2.7025      12.235       0.92      1.39          1.37   \n",
              "\n",
              "   DeNovo.Cal.Rel.  Mixed.Cal.Rel..  Preformed.Cal.Rel..   BHB  \\\n",
              "0            24.77            41.48                33.74  0.11   \n",
              "1            25.94            42.83                31.22  0.11   \n",
              "2            25.62            44.85                29.52  0.09   \n",
              "3            25.78            43.94                30.28  0.08   \n",
              "4            24.99            37.82                37.18  0.14   \n",
              "\n",
              "   Blood.NEFA..ueq.L.   preg  \n",
              "0               21.29  False  \n",
              "1              -79.51  False  \n",
              "2                9.60  False  \n",
              "3              105.36  False  \n",
              "4              234.24  False  "
            ],
            "text/html": [
              "\n",
              "  <div id=\"df-ae5438ce-c5e3-4372-a28b-a20150a99a9c\">\n",
              "    <div class=\"colab-df-container\">\n",
              "      <div>\n",
              "<style scoped>\n",
              "    .dataframe tbody tr th:only-of-type {\n",
              "        vertical-align: middle;\n",
              "    }\n",
              "\n",
              "    .dataframe tbody tr th {\n",
              "        vertical-align: top;\n",
              "    }\n",
              "\n",
              "    .dataframe thead th {\n",
              "        text-align: right;\n",
              "    }\n",
              "</style>\n",
              "<table border=\"1\" class=\"dataframe\">\n",
              "  <thead>\n",
              "    <tr style=\"text-align: right;\">\n",
              "      <th></th>\n",
              "      <th>Fat...D</th>\n",
              "      <th>CU.Protein</th>\n",
              "      <th>Tot.Solids</th>\n",
              "      <th>Denovo.FA</th>\n",
              "      <th>Mixed.FA</th>\n",
              "      <th>Performed.FA</th>\n",
              "      <th>DeNovo.Cal.Rel.</th>\n",
              "      <th>Mixed.Cal.Rel..</th>\n",
              "      <th>Preformed.Cal.Rel..</th>\n",
              "      <th>BHB</th>\n",
              "      <th>Blood.NEFA..ueq.L.</th>\n",
              "      <th>preg</th>\n",
              "    </tr>\n",
              "  </thead>\n",
              "  <tbody>\n",
              "    <tr>\n",
              "      <th>0</th>\n",
              "      <td>2.9387</td>\n",
              "      <td>2.9093</td>\n",
              "      <td>11.457</td>\n",
              "      <td>0.69</td>\n",
              "      <td>1.15</td>\n",
              "      <td>0.94</td>\n",
              "      <td>24.77</td>\n",
              "      <td>41.48</td>\n",
              "      <td>33.74</td>\n",
              "      <td>0.11</td>\n",
              "      <td>21.29</td>\n",
              "      <td>False</td>\n",
              "    </tr>\n",
              "    <tr>\n",
              "      <th>1</th>\n",
              "      <td>3.2224</td>\n",
              "      <td>2.8329</td>\n",
              "      <td>11.508</td>\n",
              "      <td>0.81</td>\n",
              "      <td>1.33</td>\n",
              "      <td>0.97</td>\n",
              "      <td>25.94</td>\n",
              "      <td>42.83</td>\n",
              "      <td>31.22</td>\n",
              "      <td>0.11</td>\n",
              "      <td>-79.51</td>\n",
              "      <td>False</td>\n",
              "    </tr>\n",
              "    <tr>\n",
              "      <th>2</th>\n",
              "      <td>2.4844</td>\n",
              "      <td>2.7936</td>\n",
              "      <td>10.819</td>\n",
              "      <td>0.61</td>\n",
              "      <td>1.06</td>\n",
              "      <td>0.70</td>\n",
              "      <td>25.62</td>\n",
              "      <td>44.85</td>\n",
              "      <td>29.52</td>\n",
              "      <td>0.09</td>\n",
              "      <td>9.60</td>\n",
              "      <td>False</td>\n",
              "    </tr>\n",
              "    <tr>\n",
              "      <th>3</th>\n",
              "      <td>2.9304</td>\n",
              "      <td>2.5808</td>\n",
              "      <td>11.294</td>\n",
              "      <td>0.71</td>\n",
              "      <td>1.22</td>\n",
              "      <td>0.84</td>\n",
              "      <td>25.78</td>\n",
              "      <td>43.94</td>\n",
              "      <td>30.28</td>\n",
              "      <td>0.08</td>\n",
              "      <td>105.36</td>\n",
              "      <td>False</td>\n",
              "    </tr>\n",
              "    <tr>\n",
              "      <th>4</th>\n",
              "      <td>3.7864</td>\n",
              "      <td>2.7025</td>\n",
              "      <td>12.235</td>\n",
              "      <td>0.92</td>\n",
              "      <td>1.39</td>\n",
              "      <td>1.37</td>\n",
              "      <td>24.99</td>\n",
              "      <td>37.82</td>\n",
              "      <td>37.18</td>\n",
              "      <td>0.14</td>\n",
              "      <td>234.24</td>\n",
              "      <td>False</td>\n",
              "    </tr>\n",
              "  </tbody>\n",
              "</table>\n",
              "</div>\n",
              "      <button class=\"colab-df-convert\" onclick=\"convertToInteractive('df-ae5438ce-c5e3-4372-a28b-a20150a99a9c')\"\n",
              "              title=\"Convert this dataframe to an interactive table.\"\n",
              "              style=\"display:none;\">\n",
              "        \n",
              "  <svg xmlns=\"http://www.w3.org/2000/svg\" height=\"24px\"viewBox=\"0 0 24 24\"\n",
              "       width=\"24px\">\n",
              "    <path d=\"M0 0h24v24H0V0z\" fill=\"none\"/>\n",
              "    <path d=\"M18.56 5.44l.94 2.06.94-2.06 2.06-.94-2.06-.94-.94-2.06-.94 2.06-2.06.94zm-11 1L8.5 8.5l.94-2.06 2.06-.94-2.06-.94L8.5 2.5l-.94 2.06-2.06.94zm10 10l.94 2.06.94-2.06 2.06-.94-2.06-.94-.94-2.06-.94 2.06-2.06.94z\"/><path d=\"M17.41 7.96l-1.37-1.37c-.4-.4-.92-.59-1.43-.59-.52 0-1.04.2-1.43.59L10.3 9.45l-7.72 7.72c-.78.78-.78 2.05 0 2.83L4 21.41c.39.39.9.59 1.41.59.51 0 1.02-.2 1.41-.59l7.78-7.78 2.81-2.81c.8-.78.8-2.07 0-2.86zM5.41 20L4 18.59l7.72-7.72 1.47 1.35L5.41 20z\"/>\n",
              "  </svg>\n",
              "      </button>\n",
              "      \n",
              "  <style>\n",
              "    .colab-df-container {\n",
              "      display:flex;\n",
              "      flex-wrap:wrap;\n",
              "      gap: 12px;\n",
              "    }\n",
              "\n",
              "    .colab-df-convert {\n",
              "      background-color: #E8F0FE;\n",
              "      border: none;\n",
              "      border-radius: 50%;\n",
              "      cursor: pointer;\n",
              "      display: none;\n",
              "      fill: #1967D2;\n",
              "      height: 32px;\n",
              "      padding: 0 0 0 0;\n",
              "      width: 32px;\n",
              "    }\n",
              "\n",
              "    .colab-df-convert:hover {\n",
              "      background-color: #E2EBFA;\n",
              "      box-shadow: 0px 1px 2px rgba(60, 64, 67, 0.3), 0px 1px 3px 1px rgba(60, 64, 67, 0.15);\n",
              "      fill: #174EA6;\n",
              "    }\n",
              "\n",
              "    [theme=dark] .colab-df-convert {\n",
              "      background-color: #3B4455;\n",
              "      fill: #D2E3FC;\n",
              "    }\n",
              "\n",
              "    [theme=dark] .colab-df-convert:hover {\n",
              "      background-color: #434B5C;\n",
              "      box-shadow: 0px 1px 3px 1px rgba(0, 0, 0, 0.15);\n",
              "      filter: drop-shadow(0px 1px 2px rgba(0, 0, 0, 0.3));\n",
              "      fill: #FFFFFF;\n",
              "    }\n",
              "  </style>\n",
              "\n",
              "      <script>\n",
              "        const buttonEl =\n",
              "          document.querySelector('#df-ae5438ce-c5e3-4372-a28b-a20150a99a9c button.colab-df-convert');\n",
              "        buttonEl.style.display =\n",
              "          google.colab.kernel.accessAllowed ? 'block' : 'none';\n",
              "\n",
              "        async function convertToInteractive(key) {\n",
              "          const element = document.querySelector('#df-ae5438ce-c5e3-4372-a28b-a20150a99a9c');\n",
              "          const dataTable =\n",
              "            await google.colab.kernel.invokeFunction('convertToInteractive',\n",
              "                                                     [key], {});\n",
              "          if (!dataTable) return;\n",
              "\n",
              "          const docLinkHtml = 'Like what you see? Visit the ' +\n",
              "            '<a target=\"_blank\" href=https://colab.research.google.com/notebooks/data_table.ipynb>data table notebook</a>'\n",
              "            + ' to learn more about interactive tables.';\n",
              "          element.innerHTML = '';\n",
              "          dataTable['output_type'] = 'display_data';\n",
              "          await google.colab.output.renderOutput(dataTable, element);\n",
              "          const docLink = document.createElement('div');\n",
              "          docLink.innerHTML = docLinkHtml;\n",
              "          element.appendChild(docLink);\n",
              "        }\n",
              "      </script>\n",
              "    </div>\n",
              "  </div>\n",
              "  "
            ]
          },
          "metadata": {},
          "execution_count": 68
        }
      ]
    },
    {
      "cell_type": "code",
      "source": [
        "df = df.dropna()\n",
        "df.shape"
      ],
      "metadata": {
        "colab": {
          "base_uri": "https://localhost:8080/"
        },
        "id": "IO0aYvdu_Z2U",
        "outputId": "21801cfd-3f0b-49ed-d881-943cf6191605"
      },
      "execution_count": 69,
      "outputs": [
        {
          "output_type": "execute_result",
          "data": {
            "text/plain": [
              "(2152, 12)"
            ]
          },
          "metadata": {},
          "execution_count": 69
        }
      ]
    },
    {
      "cell_type": "code",
      "source": [
        "df['preg'].value_counts()"
      ],
      "metadata": {
        "colab": {
          "base_uri": "https://localhost:8080/"
        },
        "id": "4aiTFN2W_I0m",
        "outputId": "00e10f14-48cc-4ea2-879f-d1bfe16f1522"
      },
      "execution_count": 70,
      "outputs": [
        {
          "output_type": "execute_result",
          "data": {
            "text/plain": [
              "False    1305\n",
              "True      847\n",
              "Name: preg, dtype: int64"
            ]
          },
          "metadata": {},
          "execution_count": 70
        }
      ]
    },
    {
      "cell_type": "code",
      "source": [
        "X  = df.drop(['preg'],axis=1)\n",
        "y = df['preg']"
      ],
      "metadata": {
        "id": "YI-txXr1_ktG"
      },
      "execution_count": 71,
      "outputs": []
    },
    {
      "cell_type": "code",
      "source": [
        "# split the data\n",
        "X_train, X_test, y_train, y_test = train_test_split(X, y, train_size=0.75, test_size=0.25, random_state=2)"
      ],
      "metadata": {
        "id": "09G7yXuF_-eZ"
      },
      "execution_count": 72,
      "outputs": []
    },
    {
      "cell_type": "code",
      "source": [
        "# Fitting Random Forest Classification to the Training set\n",
        "model = RandomForestClassifier(n_estimators = 10, criterion = 'entropy', random_state =55,class_weight=\"balanced\")\n",
        "model.fit(X_train,y_train)"
      ],
      "metadata": {
        "id": "zqTM_CNLAJxq",
        "colab": {
          "base_uri": "https://localhost:8080/"
        },
        "outputId": "ef7bd535-6f1c-401c-9848-6d43332463e5"
      },
      "execution_count": 73,
      "outputs": [
        {
          "output_type": "execute_result",
          "data": {
            "text/plain": [
              "RandomForestClassifier(class_weight='balanced', criterion='entropy',\n",
              "                       n_estimators=10, random_state=55)"
            ]
          },
          "metadata": {},
          "execution_count": 73
        }
      ]
    },
    {
      "cell_type": "code",
      "source": [
        ""
      ],
      "metadata": {
        "id": "RNNUGcqeXk3w"
      },
      "execution_count": null,
      "outputs": []
    },
    {
      "cell_type": "code",
      "source": [
        "predict = model.predict(X_train)\n",
        "#cm = confusion_matrix(y_test, predict_knn)\n",
        "#print(cm)\n",
        "\n",
        "print(\"Accuracy= {} \" .format(accuracy_score(y_train, predict)))"
      ],
      "metadata": {
        "colab": {
          "base_uri": "https://localhost:8080/"
        },
        "id": "4q-epiABVgzo",
        "outputId": "ef938ae8-3ce0-4f1e-a454-7d285b731560"
      },
      "execution_count": 74,
      "outputs": [
        {
          "output_type": "stream",
          "name": "stdout",
          "text": [
            "Accuracy= 0.9776951672862454 \n"
          ]
        }
      ]
    },
    {
      "cell_type": "markdown",
      "source": [
        "Test"
      ],
      "metadata": {
        "id": "rOrv1Xa9Gxku"
      }
    },
    {
      "cell_type": "code",
      "source": [
        "predict = model.predict(X_test)\n",
        "#cm = confusion_matrix(y_test, predict_knn)\n",
        "#print(cm)\n",
        "\n",
        "print(\"Accuracy= {} \" .format(accuracy_score(y_test, predict)))"
      ],
      "metadata": {
        "colab": {
          "base_uri": "https://localhost:8080/"
        },
        "id": "7jlWHmT9S_RB",
        "outputId": "5f1cdadc-83f2-4a8b-f75c-2897d6441421"
      },
      "execution_count": 75,
      "outputs": [
        {
          "output_type": "stream",
          "name": "stdout",
          "text": [
            "Accuracy= 0.6152416356877324 \n"
          ]
        }
      ]
    },
    {
      "cell_type": "code",
      "source": [
        "#Making the Confusion Matrix\n",
        "print(pd.crosstab(y_test,predict,rownames=['Actual'], colnames=['Prediction']))"
      ],
      "metadata": {
        "colab": {
          "base_uri": "https://localhost:8080/"
        },
        "id": "aZaVAT1STYtM",
        "outputId": "b70bab32-08ed-449d-83a1-d14d365c8088"
      },
      "execution_count": 76,
      "outputs": [
        {
          "output_type": "stream",
          "name": "stdout",
          "text": [
            "Prediction  False  True\n",
            "Actual                 \n",
            "False         273    62\n",
            "True          145    58\n"
          ]
        }
      ]
    },
    {
      "cell_type": "code",
      "source": [
        "target_names=['False','True']\n",
        "print(classification_report(y_test,predict,target_names=target_names))"
      ],
      "metadata": {
        "colab": {
          "base_uri": "https://localhost:8080/"
        },
        "id": "GxLTdmGhTggz",
        "outputId": "add272d0-82e3-458b-ab76-4d5cb8bd5984"
      },
      "execution_count": 78,
      "outputs": [
        {
          "output_type": "stream",
          "name": "stdout",
          "text": [
            "              precision    recall  f1-score   support\n",
            "\n",
            "       False       0.65      0.81      0.73       335\n",
            "        True       0.48      0.29      0.36       203\n",
            "\n",
            "    accuracy                           0.62       538\n",
            "   macro avg       0.57      0.55      0.54       538\n",
            "weighted avg       0.59      0.62      0.59       538\n",
            "\n"
          ]
        }
      ]
    }
  ]
}